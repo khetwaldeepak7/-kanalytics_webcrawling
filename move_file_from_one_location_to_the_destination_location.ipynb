{
 "cells": [
  {
   "cell_type": "code",
   "execution_count": 3,
   "id": "7425c334",
   "metadata": {},
   "outputs": [],
   "source": [
    "import os\n",
    "import shutil  # import shutil module\n",
    "path = os.listdir()\n",
    "\n",
    "# to change the current path of os to the required path\n",
    "new_path = os.chdir(r\"C:\\Users\\Dhangar\\Downloads\")\n",
    "new_path = os.listdir()\n",
    "\n",
    "# to check whether the file is present in current location or not\n",
    "\n",
    "if not os.path.exists('Deepak_resume'):  # if deepak_resume folder in not present in the location.so it wil create it\n",
    "    os.mkdir('Deepak_resume')"
   ]
  },
  {
   "cell_type": "code",
   "execution_count": 4,
   "id": "681daaa0",
   "metadata": {},
   "outputs": [],
   "source": [
    "for script in new_path:\n",
    "    if \"Deepak's\" in script:\n",
    "        shutil.move(script,\"Deepak_resume\")  # shutil take 2 arguments,(1) what to pass (2) in which directory or folder that data to be pass"
   ]
  },
  {
   "cell_type": "code",
   "execution_count": null,
   "id": "21c00fab",
   "metadata": {},
   "outputs": [],
   "source": []
  },
  {
   "cell_type": "code",
   "execution_count": null,
   "id": "41014f61",
   "metadata": {},
   "outputs": [],
   "source": []
  },
  {
   "cell_type": "code",
   "execution_count": null,
   "id": "f88cdb5c",
   "metadata": {},
   "outputs": [],
   "source": []
  }
 ],
 "metadata": {
  "kernelspec": {
   "display_name": "Python 3",
   "language": "python",
   "name": "python3"
  },
  "language_info": {
   "codemirror_mode": {
    "name": "ipython",
    "version": 3
   },
   "file_extension": ".py",
   "mimetype": "text/x-python",
   "name": "python",
   "nbconvert_exporter": "python",
   "pygments_lexer": "ipython3",
   "version": "3.9.4"
  }
 },
 "nbformat": 4,
 "nbformat_minor": 5
}
